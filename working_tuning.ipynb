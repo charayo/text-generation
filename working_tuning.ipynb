{
  "nbformat": 4,
  "nbformat_minor": 0,
  "metadata": {
    "colab": {
      "provenance": [],
      "collapsed_sections": []
    },
    "kernelspec": {
      "name": "python3",
      "display_name": "Python 3"
    },
    "language_info": {
      "name": "python"
    }
  },
  "cells": [
    {
      "cell_type": "code",
      "execution_count": 53,
      "metadata": {
        "id": "mqiHsbjXa7M3"
      },
      "outputs": [],
      "source": [
        "import numpy as np # linear algebra\n",
        "import pandas as pd # data processing, CSV file I/O (e.g. pd.read_csv)\n",
        "\n",
        "\n",
        "import os\n",
        "for dirname, _, filenames in os.walk('/kaggle/input'):\n",
        "    for filename in filenames:\n",
        "        print(os.path.join(dirname, filename))\n",
        "\n",
        "#!nvidia-smi"
      ]
    },
    {
      "cell_type": "code",
      "source": [
        "#!wget -O prompts.csv --no-check-certificate https://seart-ghs.si.usi.ch/api/r/download/csv?hasWiki=false&onlyForks=false&hasLicense=true&nameEquals=false&hasPulls=false&excludeForks=true&commitsMin=2&language=JavaScript&hasIssues=false&forksMin=0&starsMin=10&forksMax=0"
      ],
      "metadata": {
        "id": "z6_7YFLId-HJ"
      },
      "execution_count": 54,
      "outputs": []
    },
    {
      "cell_type": "code",
      "source": [
        "#!wget -O prompts.csv https://raw.githubusercontent.com/krea-ai/open-prompts/main/data/1k.csv"
      ],
      "metadata": {
        "id": "3lWWYPFylWRZ"
      },
      "execution_count": null,
      "outputs": []
    },
    {
      "cell_type": "code",
      "source": [
        "!wget -O my_dataset.csv https://www.kaggle.com/datasets/simiotic/github-code-snippets/download?datasetVersionNumber=1"
      ],
      "metadata": {
        "id": "KVl6krCTwAN8"
      },
      "execution_count": null,
      "outputs": []
    },
    {
      "cell_type": "code",
      "source": [
        "!ls"
      ],
      "metadata": {
        "colab": {
          "base_uri": "https://localhost:8080/"
        },
        "id": "qrSHfWpdt7FU",
        "outputId": "0477dff7-7e43-4816-a029-1adef4121394"
      },
      "execution_count": 75,
      "outputs": [
        {
          "output_type": "stream",
          "name": "stdout",
          "text": [
            "aitextgen  input_text_cleaned.txt  prompts.csv\tprompts.jsonl  sample_data\n"
          ]
        }
      ]
    },
    {
      "cell_type": "code",
      "source": [
        "prompts = pd.read_csv(\"my_dataset.csv\")"
      ],
      "metadata": {
        "id": "LlbdVC6Wt_Om"
      },
      "execution_count": 77,
      "outputs": []
    },
    {
      "cell_type": "code",
      "source": [
        "prompts"
      ],
      "metadata": {
        "id": "foAug-ShG9i5"
      },
      "execution_count": null,
      "outputs": []
    },
    {
      "cell_type": "code",
      "source": [
        "! pip install aitextgen -q"
      ],
      "metadata": {
        "id": "hU_O0s-rHOxj"
      },
      "execution_count": 81,
      "outputs": []
    },
    {
      "cell_type": "code",
      "source": [
        "#model=\"EleutherAI/gpt-neo-125M\"\n",
        "model=\"EleutherAI/gpt-neo-1.3B\""
      ],
      "metadata": {
        "id": "P023ApkyHW-A"
      },
      "execution_count": 82,
      "outputs": []
    },
    {
      "cell_type": "markdown",
      "source": [
        "Convert the dataset to text file which will be used to train the model"
      ],
      "metadata": {
        "id": "SA4DKJu2H_Lh"
      }
    },
    {
      "cell_type": "code",
      "source": [
        "prompts.to_csv(\"extract.txt\", columns=[\"prompt\"], header=False, index=False)"
      ],
      "metadata": {
        "id": "dvVPU68ZKV0s"
      },
      "execution_count": null,
      "outputs": []
    },
    {
      "cell_type": "code",
      "source": [
        "from aitextgen.TokenDataset import TokenDataset"
      ],
      "metadata": {
        "id": "Y74hQ1UVHkYk"
      },
      "execution_count": null,
      "outputs": []
    },
    {
      "cell_type": "code",
      "source": [
        "data = TokenDataset('./input_text_cleaned.txt', line_by_line=True)"
      ],
      "metadata": {
        "id": "Vw7aHshaHq7b"
      },
      "execution_count": null,
      "outputs": []
    },
    {
      "cell_type": "code",
      "source": [
        "from aitextgen import aitextgen"
      ],
      "metadata": {
        "id": "ABIlWIJGHvjh"
      },
      "execution_count": null,
      "outputs": []
    },
    {
      "cell_type": "code",
      "source": [
        "ai = aitextgen(model = model,  to_gpu=True)"
      ],
      "metadata": {
        "id": "PQseiWFtH0b7"
      },
      "execution_count": null,
      "outputs": []
    }
  ]
}